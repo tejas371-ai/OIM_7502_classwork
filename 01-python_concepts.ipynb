{
 "cells": [
  {
   "cell_type": "markdown",
   "id": "9383bafa",
   "metadata": {},
   "source": [
    "### Python Programming Concepts"
   ]
  },
  {
   "cell_type": "markdown",
   "id": "17df7d6e",
   "metadata": {},
   "source": [
    "#### 1. Create a variable to store the value 500 for sales"
   ]
  },
  {
   "cell_type": "code",
   "execution_count": 13,
   "id": "a5f43c2f",
   "metadata": {},
   "outputs": [
    {
     "data": {
      "text/plain": [
       "500"
      ]
     },
     "execution_count": 13,
     "metadata": {},
     "output_type": "execute_result"
    }
   ],
   "source": [
    "sales = 500\n",
    "sales"
   ]
  },
  {
   "cell_type": "markdown",
   "id": "6dc8b9ea",
   "metadata": {},
   "source": [
    "#### 2. Create a variable to store several values:  \n",
    "* sales: 500, 475, 625\n",
    "* integers 1 - 9 "
   ]
  },
  {
   "cell_type": "code",
   "execution_count": 19,
   "id": "902fe3bd",
   "metadata": {},
   "outputs": [
    {
     "data": {
      "text/plain": [
       "625"
      ]
     },
     "execution_count": 19,
     "metadata": {},
     "output_type": "execute_result"
    }
   ],
   "source": [
    "# Sales values\n",
    "sales = [500, 475, 625]\n",
    "sales.pop()\n"
   ]
  },
  {
   "cell_type": "code",
   "execution_count": 25,
   "id": "dfce560f-432d-4f0e-91c2-97ac73578049",
   "metadata": {},
   "outputs": [
    {
     "data": {
      "text/plain": [
       "[1, 2, 3, 4, 5, 6, 7, 8, 9]"
      ]
     },
     "execution_count": 25,
     "metadata": {},
     "output_type": "execute_result"
    }
   ],
   "source": [
    "# Integers 1 through 9\n",
    "numbers = list(range(1, 10))\n",
    "numbers"
   ]
  },
  {
   "cell_type": "markdown",
   "id": "62e55953",
   "metadata": {},
   "source": [
    "#### 3. Create a variable to store the names and email addresses for a number of customers\n",
    "* John, john@some.com; Ann, ann@some.com"
   ]
  },
  {
   "cell_type": "code",
   "execution_count": 29,
   "id": "03f2b161",
   "metadata": {},
   "outputs": [
    {
     "data": {
      "text/plain": [
       "{'John': 'john@some.com', 'Ann': 'ann@some.com'}"
      ]
     },
     "execution_count": 29,
     "metadata": {},
     "output_type": "execute_result"
    }
   ],
   "source": [
    "customers = {\n",
    "    \"John\": \"john@some.com\",\n",
    "    \"Ann\": \"ann@some.com\"\n",
    "}\n",
    "customers"
   ]
  },
  {
   "cell_type": "code",
   "execution_count": 41,
   "id": "c8409cc9-c180-4350-804c-1b8cdf5611a6",
   "metadata": {},
   "outputs": [
    {
     "data": {
      "text/plain": [
       "[{'name': 'Ann', 'email': 'ann@some.com'}]"
      ]
     },
     "execution_count": 41,
     "metadata": {},
     "output_type": "execute_result"
    }
   ],
   "source": [
    "customers = [\n",
    "    {'name' : 'John', 'email' : 'john@some.com',\n",
    "     \n",
    "    'name' : 'Ann', 'email' : 'ann@some.com'}\n",
    "]\n",
    "customers"
   ]
  },
  {
   "cell_type": "markdown",
   "id": "d6b1e8c6",
   "metadata": {},
   "source": [
    "#### 4. Use Python to generate a random value based on each of following:\n",
    "1. between 0 and 1\n",
    "2. the standard normal distribution (rounded to two decimal places)\n",
    "3. a value between 1 and 10\n",
    "4. either H or T"
   ]
  },
  {
   "cell_type": "code",
   "execution_count": 9,
   "id": "bdb52b86",
   "metadata": {},
   "outputs": [
    {
     "data": {
      "text/plain": [
       "0.8508113017055814"
      ]
     },
     "execution_count": 9,
     "metadata": {},
     "output_type": "execute_result"
    }
   ],
   "source": [
    "import numpy as np\n",
    "import random\n",
    "random.random()\n"
   ]
  },
  {
   "cell_type": "code",
   "execution_count": 21,
   "id": "c196ce9e-f681-48ec-b9f3-237b39d226a3",
   "metadata": {},
   "outputs": [
    {
     "data": {
      "text/plain": [
       "0.7898102479521301"
      ]
     },
     "execution_count": 21,
     "metadata": {},
     "output_type": "execute_result"
    }
   ],
   "source": [
    "standard_normal_value = round(np.random.normal(0, 1), 2)\n",
    "random.random()"
   ]
  },
  {
   "cell_type": "code",
   "execution_count": 19,
   "id": "fb8b8af0-01c4-4b4c-8ae8-2bbbcfe27271",
   "metadata": {},
   "outputs": [
    {
     "data": {
      "text/plain": [
       "0.003281486890037044"
      ]
     },
     "execution_count": 19,
     "metadata": {},
     "output_type": "execute_result"
    }
   ],
   "source": [
    "random_integer = random.randint(1, 10)\n",
    "random.random()"
   ]
  },
  {
   "cell_type": "code",
   "execution_count": 61,
   "id": "3f25fc2c-22db-46a8-af0d-c29a09fb7259",
   "metadata": {},
   "outputs": [
    {
     "data": {
      "text/plain": [
       "'T'"
      ]
     },
     "execution_count": 61,
     "metadata": {},
     "output_type": "execute_result"
    }
   ],
   "source": [
    "choice([\"H\",\"T\"])"
   ]
  },
  {
   "cell_type": "markdown",
   "id": "7eddf06a",
   "metadata": {},
   "source": [
    "#### 5. Use Python to determine your current working directory"
   ]
  },
  {
   "cell_type": "code",
   "execution_count": 23,
   "id": "d8f79474",
   "metadata": {},
   "outputs": [
    {
     "name": "stdout",
     "output_type": "stream",
     "text": [
      "Current Working Directory: C:\\Users\\tejas\\OIM_7502_classwork\n"
     ]
    }
   ],
   "source": [
    "import os\n",
    "\n",
    "cwd = os.getcwd()\n",
    "print(\"Current Working Directory:\", cwd)\n"
   ]
  },
  {
   "cell_type": "markdown",
   "id": "fc43ec50",
   "metadata": {},
   "source": [
    "#### 6. Use Python to determine how many days until New Year's Day"
   ]
  },
  {
   "cell_type": "code",
   "execution_count": 25,
   "id": "13f630fe",
   "metadata": {},
   "outputs": [
    {
     "name": "stdout",
     "output_type": "stream",
     "text": [
      "Days until New Year's Day: 108\n"
     ]
    }
   ],
   "source": [
    "import datetime\n",
    "\n",
    "today = datetime.date.today()\n",
    "new_year = datetime.date(today.year + 1, 1, 1)\n",
    "days_left = (new_year - today).days\n",
    "print(\"Days until New Year's Day:\", days_left)\n"
   ]
  },
  {
   "cell_type": "markdown",
   "id": "2ba4ea92",
   "metadata": {},
   "source": [
    "#### 7. Write a short program that displays the future value of 1,000 earning 5%  at the end of each year for the next 5 years"
   ]
  },
  {
   "cell_type": "code",
   "execution_count": 35,
   "id": "6fef4a8c",
   "metadata": {},
   "outputs": [
    {
     "name": "stdout",
     "output_type": "stream",
     "text": [
      "Year 1: $1050.00\n",
      "Year 2: $1102.50\n",
      "Year 3: $1157.63\n",
      "Year 4: $1215.51\n",
      "Year 5: $1276.28\n"
     ]
    }
   ],
   "source": [
    "principal = 1000  \n",
    "rate = 0.05\n",
    "years = 5          \n",
    "\n",
    "for year in range(1, 6):\n",
    "    FV = principal * (1 + rate) ** year\n",
    "    print(f\"Year {year}: ${FV:.2f}\")\n"
   ]
  },
  {
   "cell_type": "markdown",
   "id": "150201c8",
   "metadata": {},
   "source": [
    "### 8. Write a short program that prompts a user to enter a stock symbol and press enter. Add each symbol entered to a variable. The program should run until the user presses the enter key without entering anything (empty string) "
   ]
  },
  {
   "cell_type": "code",
   "execution_count": 42,
   "id": "b2b8265a-db1a-4ed1-8404-bec3ec351ce5",
   "metadata": {},
   "outputs": [
    {
     "name": "stdout",
     "output_type": "stream",
     "text": [
      "You entered these stock symbols: ['AAPL', 'TSLA', 'MSFT']\n"
     ]
    }
   ],
   "source": [
    "fake_inputs = [\"AAPL\", \"TSLA\", \"MSFT\", \"\"]\n",
    "\n",
    "symbols = []\n",
    "for stock in fake_inputs:\n",
    "    if stock == \"\":\n",
    "        break\n",
    "    symbols.append(stock)\n",
    "\n",
    "print(\"You entered these stock symbols:\", symbols)"
   ]
  },
  {
   "cell_type": "markdown",
   "id": "fc2a7592",
   "metadata": {},
   "source": [
    "#### 9. Write the code necessary to calculate the sum of the square differences of a group of values : \n",
    "58, 32, 37, 41, 36, 36, 54, 37, 25, 53\n",
    "##### $\\Sigma $(${x}$ - $\\bar{x}$)$^2$"
   ]
  },
  {
   "cell_type": "code",
   "execution_count": 44,
   "id": "13d9a6c5",
   "metadata": {},
   "outputs": [
    {
     "name": "stdout",
     "output_type": "stream",
     "text": [
      "Sum of squared differences: 1020.9\n"
     ]
    }
   ],
   "source": [
    "values = [58, 32, 37, 41, 36, 36, 54, 37, 25, 53]\n",
    "\n",
    "mean = sum(values) / len(values)\n",
    "squared_diffs = [(x - mean) ** 2 for x in values]\n",
    "result = sum(squared_diffs)\n",
    "print(\"Sum of squared differences:\", result)\n"
   ]
  },
  {
   "cell_type": "markdown",
   "id": "6d6f2e64",
   "metadata": {},
   "source": [
    "#### 10. Opening, reading and writing files"
   ]
  },
  {
   "cell_type": "code",
   "execution_count": 82,
   "id": "f7fa569d",
   "metadata": {},
   "outputs": [],
   "source": [
    "f = open(\"example.txt\", \"w\") \n",
    "f.write(\"Hello \\n\")\n",
    "f.write(\"This is my first file\\n\")\n",
    "f.close()                  "
   ]
  },
  {
   "cell_type": "code",
   "execution_count": 84,
   "id": "d49e6ff0-892c-4c98-ae67-061e2c5fd97e",
   "metadata": {},
   "outputs": [
    {
     "name": "stdout",
     "output_type": "stream",
     "text": [
      "Hello \n",
      "This is my first file\n",
      "\n"
     ]
    }
   ],
   "source": [
    "f = open(\"example.txt\", \"r\")\n",
    "content = f.read()            \n",
    "f.close()\n",
    "print(content)\n"
   ]
  },
  {
   "cell_type": "code",
   "execution_count": 88,
   "id": "0303b4c0-142f-4a24-82a3-2e4e2a796828",
   "metadata": {},
   "outputs": [],
   "source": [
    "f = open(\"example.txt\", \"a\") \n",
    "f.write(\"Adding another line\\n\")\n",
    "f.close()"
   ]
  },
  {
   "cell_type": "markdown",
   "id": "eec548d6",
   "metadata": {},
   "source": [
    "#### 11. Create a function the will simulate rolling two die and return the value of each and and the sum "
   ]
  },
  {
   "cell_type": "code",
   "execution_count": 51,
   "id": "bb115cdc",
   "metadata": {},
   "outputs": [
    {
     "name": "stdout",
     "output_type": "stream",
     "text": [
      "Die 1: 6 Die 2: 2 Sum: 8\n"
     ]
    }
   ],
   "source": [
    "import random\n",
    "def roll_two_dice():\n",
    "    D1 = random.randint(1, 6)\n",
    "    D2 = random.randint(1, 6)\n",
    "    total = D1 + D2\n",
    "    return D1, D2, total\n",
    "\n",
    "d1, d2, s = roll_two_dice()\n",
    "print(\"Die 1:\", d1, \"Die 2:\", d2, \"Sum:\", s)"
   ]
  },
  {
   "cell_type": "markdown",
   "id": "21556d7f",
   "metadata": {},
   "source": [
    "#### 12. Write the code needed to evaluate whether a value in a group of values is negative or postive and prints an approriate message, i.e. postive, negative \n",
    "-1.59, 2.36, 1.69, 1.13, -0.91, 1.48, -0.34, 1.31, -0.74, 0.2"
   ]
  },
  {
   "cell_type": "code",
   "execution_count": 60,
   "id": "d6c38ecb",
   "metadata": {},
   "outputs": [],
   "source": [
    "values = [-1.59, 2.36, 1.69, 1.13, -0.91, 1.48, -0.34, 1.31, -0.74, 0.2]"
   ]
  },
  {
   "cell_type": "code",
   "execution_count": 70,
   "id": "aaefba17",
   "metadata": {},
   "outputs": [
    {
     "name": "stdout",
     "output_type": "stream",
     "text": [
      "-1.59 negative\n",
      "2.36 positive\n",
      "1.69 positive\n",
      "1.13 positive\n",
      "-0.91 negative\n",
      "1.48 positive\n",
      "-0.34 negative\n",
      "1.31 positive\n",
      "-0.74 negative\n",
      "0.2 positive\n"
     ]
    }
   ],
   "source": [
    "for num in values:\n",
    "    if num > 0:\n",
    "        print(num, \"positive\")\n",
    "    else:\n",
    "        print(num, \"negative\")"
   ]
  },
  {
   "cell_type": "markdown",
   "id": "8cafe65c",
   "metadata": {},
   "source": [
    "#### 14.  Complete the following:\n",
    "1. Write a program that generates 500 random integers from 1 to n, for example, the first integer will be 1 the second will be 1 or 2, the fifth between 1 and 5, and so on.\n",
    "2. The program should write each integer to a file \n",
    "3. Once all integers are written close the file\n",
    "\n",
    "##### Part 2\n",
    "1. Open and read the file into a list\n",
    "2. Create a line plot of the data"
   ]
  },
  {
   "cell_type": "code",
   "execution_count": 76,
   "id": "60a910bb",
   "metadata": {},
   "outputs": [],
   "source": [
    "import random\n",
    "import matplotlib.pyplot as plt\n",
    "\n",
    "f = open(\"random_numbers.txt\", \"w\")\n",
    "for i in range(1, 501):\n",
    "    f.write(str(random.randint(1, i)) + \"\\n\")\n",
    "f.close()"
   ]
  },
  {
   "cell_type": "code",
   "execution_count": 78,
   "id": "d6b4180c",
   "metadata": {},
   "outputs": [],
   "source": [
    "f = open(\"random_numbers.txt\", \"r\")\n",
    "numbers = [int(line) for line in f]\n",
    "f.close()\n"
   ]
  },
  {
   "cell_type": "code",
   "execution_count": 80,
   "id": "adb6aa11",
   "metadata": {},
   "outputs": [
    {
     "data": {
      "image/png": "[encoded data removed]",
      "text/plain": [
       "<Figure size 640x480 with 1 Axes>"
      ]
     },
     "metadata": {},
     "output_type": "display_data"
    }
   ],
   "source": [
    "plt.plot(numbers)\n",
    "plt.show()"
   ]
  },
  {
   "cell_type": "code",
   "execution_count": null,
   "id": "6745da79",
   "metadata": {},
   "outputs": [],
   "source": []
  },
  {
   "cell_type": "code",
   "execution_count": null,
   "id": "21140445",
   "metadata": {},
   "outputs": [],
   "source": []
  },
  {
   "cell_type": "code",
   "execution_count": null,
   "id": "3d546600",
   "metadata": {},
   "outputs": [],
   "source": []
  }
 ],
 "metadata": {
  "kernelspec": {
   "display_name": "Python [conda env:base] *",
   "language": "python",
   "name": "conda-base-py"
  },
  "language_info": {
   "codemirror_mode": {
    "name": "ipython",
    "version": 3
   },
   "file_extension": ".py",
   "mimetype": "text/x-python",
   "name": "python",
   "nbconvert_exporter": "python",
   "pygments_lexer": "ipython3",
   "version": "3.12.7"
  }
 },
 "nbformat": 4,
 "nbformat_minor": 5
}
