{
 "cells": [
  {
   "cell_type": "markdown",
   "id": "f9bd1c7f",
   "metadata": {},
   "source": [
    "# APIs\n",
    "* Most interactions consist of getting or posting data\n",
    "* Almost every interaction involves dat aexchange via JSON\n",
    "* Both activities require connecting via an endpoint\n",
    "* Most APIs require some form of registration to expose API key(s)\n",
    "* Many platforms have written convenience libraries for Python\n",
    "    * [Facebook](https://pypi.org/project/python-facebook-api/)\n",
    "    * [Spotify](https://pypi.org/search/?q=spotify)\n",
    "    * [Yahoo Finance](https://pypi.org/project/yfinance/)"
   ]
  },
  {
   "cell_type": "code",
   "execution_count": null,
   "id": "b4a5db0f",
   "metadata": {},
   "outputs": [],
   "source": []
  },
  {
   "cell_type": "code",
   "execution_count": null,
   "id": "003d79ca",
   "metadata": {},
   "outputs": [],
   "source": []
  },
  {
   "cell_type": "code",
   "execution_count": null,
   "id": "d6816f69",
   "metadata": {},
   "outputs": [],
   "source": []
  },
  {
   "cell_type": "code",
   "execution_count": null,
   "id": "d736b4df",
   "metadata": {},
   "outputs": [],
   "source": []
  },
  {
   "cell_type": "code",
   "execution_count": null,
   "id": "13b8a3c2",
   "metadata": {},
   "outputs": [],
   "source": [
    "# display all posts\n"
   ]
  },
  {
   "cell_type": "code",
   "execution_count": null,
   "id": "72412fc3",
   "metadata": {},
   "outputs": [],
   "source": [
    "# how many posts are there?\n"
   ]
  },
  {
   "cell_type": "code",
   "execution_count": null,
   "id": "585849c6",
   "metadata": {},
   "outputs": [],
   "source": [
    "# what is the first title?\n"
   ]
  },
  {
   "cell_type": "code",
   "execution_count": null,
   "id": "422ca724",
   "metadata": {
    "scrolled": true
   },
   "outputs": [],
   "source": [
    "# print all post titles\n"
   ]
  },
  {
   "cell_type": "code",
   "execution_count": null,
   "id": "b6605887",
   "metadata": {},
   "outputs": [],
   "source": [
    "# write posts to a string\n"
   ]
  },
  {
   "cell_type": "code",
   "execution_count": null,
   "id": "bffaec26",
   "metadata": {},
   "outputs": [],
   "source": [
    "# write posts to a file\n"
   ]
  },
  {
   "cell_type": "markdown",
   "id": "067f873c",
   "metadata": {},
   "source": [
    "### Example of a convenience library\n",
    "* [yfinance](https://pypi.org/project/yfinance/)\n",
    "* data is downloaded into a pandas Series or DataFrame\n",
    "* This means pandas methods are exposed"
   ]
  },
  {
   "cell_type": "code",
   "execution_count": null,
   "id": "10c4d57e",
   "metadata": {},
   "outputs": [],
   "source": [
    "# you likely need to install -- uncomment line below \n",
    "#!pip install yfinance"
   ]
  },
  {
   "cell_type": "code",
   "execution_count": null,
   "id": "d9606c24",
   "metadata": {},
   "outputs": [],
   "source": []
  },
  {
   "cell_type": "code",
   "execution_count": null,
   "id": "2bbfc053",
   "metadata": {},
   "outputs": [],
   "source": []
  },
  {
   "cell_type": "code",
   "execution_count": null,
   "id": "ab215ff2",
   "metadata": {},
   "outputs": [],
   "source": []
  },
  {
   "cell_type": "code",
   "execution_count": null,
   "id": "b23a4674",
   "metadata": {},
   "outputs": [],
   "source": []
  },
  {
   "cell_type": "code",
   "execution_count": null,
   "id": "76264377",
   "metadata": {},
   "outputs": [],
   "source": []
  }
 ],
 "metadata": {
  "kernelspec": {
   "display_name": "Python 3 (ipykernel)",
   "language": "python",
   "name": "python3"
  },
  "language_info": {
   "codemirror_mode": {
    "name": "ipython",
    "version": 3
   },
   "file_extension": ".py",
   "mimetype": "text/x-python",
   "name": "python",
   "nbconvert_exporter": "python",
   "pygments_lexer": "ipython3",
   "version": "3.11.3"
  }
 },
 "nbformat": 4,
 "nbformat_minor": 5
}
