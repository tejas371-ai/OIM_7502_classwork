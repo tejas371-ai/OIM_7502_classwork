{
 "cells": [
  {
   "cell_type": "markdown",
   "id": "82d4a65b",
   "metadata": {},
   "source": [
    "## Basic NumPy Functionality"
   ]
  },
  {
   "cell_type": "markdown",
   "id": "d5841649",
   "metadata": {},
   "source": [
    "### NumPy n-dim array\n",
    "* Part of a Data \"ecosystem\" which includes data science libaries, machine learning and image processing\n",
    "* NumPy is huge and very powerful --> we will just hit the highlights\n",
    "* optimized array, superior to lists\n",
    "* can be \"any\" number of dimensions, typically 1 or 2 dims though\n",
    "* restricted to a single data type\n",
    "* required to \"dimension\" your arrays when you initialize them "
   ]
  },
  {
   "cell_type": "code",
   "execution_count": 89,
   "id": "e00a4c30",
   "metadata": {},
   "outputs": [],
   "source": [
    "import numpy as np\n",
    "import numpy.random as npr"
   ]
  },
  {
   "cell_type": "code",
   "execution_count": 17,
   "id": "f5e76bd4",
   "metadata": {},
   "outputs": [],
   "source": [
    "l = [1, 2, 3] \n",
    "a = np.array([1,2,3])"
   ]
  },
  {
   "cell_type": "code",
   "execution_count": 19,
   "id": "406b8b75",
   "metadata": {},
   "outputs": [
    {
     "data": {
      "text/plain": [
       "[1, 2, 3]"
      ]
     },
     "execution_count": 19,
     "metadata": {},
     "output_type": "execute_result"
    }
   ],
   "source": [
    "l"
   ]
  },
  {
   "cell_type": "code",
   "execution_count": 21,
   "id": "f8581a90-2e92-4048-b92e-204fc36438be",
   "metadata": {},
   "outputs": [
    {
     "data": {
      "text/plain": [
       "array([1, 2, 3])"
      ]
     },
     "execution_count": 21,
     "metadata": {},
     "output_type": "execute_result"
    }
   ],
   "source": [
    "a"
   ]
  },
  {
   "cell_type": "code",
   "execution_count": 23,
   "id": "c7929c3e",
   "metadata": {},
   "outputs": [
    {
     "data": {
      "text/plain": [
       "[5, 10, 15]"
      ]
     },
     "execution_count": 23,
     "metadata": {},
     "output_type": "execute_result"
    }
   ],
   "source": [
    "[x*5 for x in l]"
   ]
  },
  {
   "cell_type": "code",
   "execution_count": 25,
   "id": "6150686b-57cd-4292-9d5a-085c06c9b369",
   "metadata": {},
   "outputs": [
    {
     "data": {
      "text/plain": [
       "array([ 5, 10, 15])"
      ]
     },
     "execution_count": 25,
     "metadata": {},
     "output_type": "execute_result"
    }
   ],
   "source": [
    "a*5"
   ]
  },
  {
   "cell_type": "code",
   "execution_count": 29,
   "id": "0976bd06-621d-4d2e-a5b6-6a832504e823",
   "metadata": {},
   "outputs": [
    {
     "data": {
      "text/plain": [
       "array([2, 4, 6])"
      ]
     },
     "execution_count": 29,
     "metadata": {},
     "output_type": "execute_result"
    }
   ],
   "source": [
    "a + a"
   ]
  },
  {
   "cell_type": "code",
   "execution_count": null,
   "id": "b9d72d8e-5571-48da-b191-4c4c2c9803a7",
   "metadata": {},
   "outputs": [],
   "source": []
  },
  {
   "cell_type": "markdown",
   "id": "8f923313",
   "metadata": {},
   "source": [
    "### Performance"
   ]
  },
  {
   "cell_type": "code",
   "execution_count": 47,
   "id": "a3fbc168-83a2-479b-ba81-7f5df3e775a6",
   "metadata": {},
   "outputs": [],
   "source": [
    "big_arr = np.arange(4.5e6)\n",
    "big_list = big_arr.tolist()"
   ]
  },
  {
   "cell_type": "code",
   "execution_count": 49,
   "id": "510ad96a",
   "metadata": {},
   "outputs": [
    {
     "name": "stdout",
     "output_type": "stream",
     "text": [
      "655 ms ± 74.3 ms per loop (mean ± std. dev. of 7 runs, 5 loops each)\n"
     ]
    }
   ],
   "source": [
    "%timeit -n5 square = [x ** 2 for x in big_list]"
   ]
  },
  {
   "cell_type": "code",
   "execution_count": 50,
   "id": "e1c89373-cb7d-4900-9d65-121f9af57283",
   "metadata": {},
   "outputs": [
    {
     "name": "stdout",
     "output_type": "stream",
     "text": [
      "9.72 ms ± 1.54 ms per loop (mean ± std. dev. of 7 runs, 5 loops each)\n"
     ]
    }
   ],
   "source": [
    "%timeit -n5 square = big_arr ** 2 "
   ]
  },
  {
   "cell_type": "markdown",
   "id": "5ed5818d",
   "metadata": {},
   "source": [
    "### Determining dimensions\n",
    "* size = \"rows\" * \"columns\"\n",
    "* itemsize --> number of bytes used by a single value\n",
    "* itemsize * size = bytes of memory the array uses\n",
    "* shape --> comma separated tuple of length of each dimension\n",
    "* ndim --> int value of dimensions present\n",
    "* reshape --> dimension manipulation"
   ]
  },
  {
   "cell_type": "code",
   "execution_count": 53,
   "id": "117f3b2a",
   "metadata": {},
   "outputs": [
    {
     "data": {
      "text/plain": [
       "array([ 0,  1,  2,  3,  4,  5,  6,  7,  8,  9, 10, 11, 12, 13, 14])"
      ]
     },
     "execution_count": 53,
     "metadata": {},
     "output_type": "execute_result"
    }
   ],
   "source": [
    "a = np.arange(15)\n",
    "a"
   ]
  },
  {
   "cell_type": "code",
   "execution_count": 55,
   "id": "e6664130-f4ee-4400-ba84-a7210d1f9df2",
   "metadata": {},
   "outputs": [
    {
     "data": {
      "text/plain": [
       "15"
      ]
     },
     "execution_count": 55,
     "metadata": {},
     "output_type": "execute_result"
    }
   ],
   "source": [
    "a.size"
   ]
  },
  {
   "cell_type": "code",
   "execution_count": 57,
   "id": "646a24a3",
   "metadata": {},
   "outputs": [
    {
     "data": {
      "text/plain": [
       "4"
      ]
     },
     "execution_count": 57,
     "metadata": {},
     "output_type": "execute_result"
    }
   ],
   "source": [
    "a.itemsize"
   ]
  },
  {
   "cell_type": "code",
   "execution_count": 59,
   "id": "55826f28",
   "metadata": {},
   "outputs": [
    {
     "data": {
      "text/plain": [
       "(15,)"
      ]
     },
     "execution_count": 59,
     "metadata": {},
     "output_type": "execute_result"
    }
   ],
   "source": [
    "a.shape"
   ]
  },
  {
   "cell_type": "code",
   "execution_count": 63,
   "id": "f9cd89ae",
   "metadata": {},
   "outputs": [
    {
     "data": {
      "text/plain": [
       "array([[ 0,  1,  2],\n",
       "       [ 3,  4,  5],\n",
       "       [ 6,  7,  8],\n",
       "       [ 9, 10, 11],\n",
       "       [12, 13, 14]])"
      ]
     },
     "execution_count": 63,
     "metadata": {},
     "output_type": "execute_result"
    }
   ],
   "source": [
    "a.reshape(5,3)"
   ]
  },
  {
   "cell_type": "code",
   "execution_count": 65,
   "id": "8b3a6ee2",
   "metadata": {},
   "outputs": [
    {
     "data": {
      "text/plain": [
       "(5, 3)"
      ]
     },
     "execution_count": 65,
     "metadata": {},
     "output_type": "execute_result"
    }
   ],
   "source": [
    "a.reshape(5,3).shape"
   ]
  },
  {
   "cell_type": "code",
   "execution_count": 67,
   "id": "d61327f6",
   "metadata": {},
   "outputs": [
    {
     "data": {
      "text/plain": [
       "array([ 0,  1,  2,  3,  4,  5,  6,  7,  8,  9, 10, 11, 12, 13, 14])"
      ]
     },
     "execution_count": 67,
     "metadata": {},
     "output_type": "execute_result"
    }
   ],
   "source": [
    "a"
   ]
  },
  {
   "cell_type": "code",
   "execution_count": 69,
   "id": "1a776856",
   "metadata": {},
   "outputs": [
    {
     "data": {
      "text/plain": [
       "array([ 0,  1,  2,  3,  4,  5,  6,  7,  8,  9, 10, 11, 12, 13, 14])"
      ]
     },
     "execution_count": 69,
     "metadata": {},
     "output_type": "execute_result"
    }
   ],
   "source": [
    "a.reshape(15,)"
   ]
  },
  {
   "cell_type": "code",
   "execution_count": 71,
   "id": "2098467d-8528-4620-990f-5b1cedd9069c",
   "metadata": {},
   "outputs": [
    {
     "data": {
      "text/plain": [
       "array([ 0,  1,  2,  3,  4,  5,  6,  7,  8,  9, 10, 11, 12, 13, 14])"
      ]
     },
     "execution_count": 71,
     "metadata": {},
     "output_type": "execute_result"
    }
   ],
   "source": [
    "a.reshape(-1)"
   ]
  },
  {
   "cell_type": "code",
   "execution_count": null,
   "id": "b7956d73",
   "metadata": {},
   "outputs": [],
   "source": []
  },
  {
   "cell_type": "code",
   "execution_count": null,
   "id": "3c3b0117",
   "metadata": {},
   "outputs": [],
   "source": []
  },
  {
   "cell_type": "code",
   "execution_count": null,
   "id": "16a6149a",
   "metadata": {},
   "outputs": [],
   "source": []
  },
  {
   "cell_type": "code",
   "execution_count": null,
   "id": "5eb370f4",
   "metadata": {},
   "outputs": [],
   "source": []
  },
  {
   "cell_type": "code",
   "execution_count": null,
   "id": "a6a54dc4",
   "metadata": {},
   "outputs": [],
   "source": []
  },
  {
   "cell_type": "code",
   "execution_count": null,
   "id": "5846dd0f",
   "metadata": {},
   "outputs": [],
   "source": []
  },
  {
   "cell_type": "code",
   "execution_count": null,
   "id": "a1cda42e",
   "metadata": {},
   "outputs": [],
   "source": []
  },
  {
   "cell_type": "markdown",
   "id": "1ef24555",
   "metadata": {},
   "source": [
    "### \"Slicing\""
   ]
  },
  {
   "cell_type": "code",
   "execution_count": 73,
   "id": "c3c79807",
   "metadata": {},
   "outputs": [
    {
     "ename": "IndexError",
     "evalue": "too many indices for array: array is 1-dimensional, but 2 were indexed",
     "output_type": "error",
     "traceback": [
      "\u001b[1;31m---------------------------------------------------------------------------\u001b[0m",
      "\u001b[1;31mIndexError\u001b[0m                                Traceback (most recent call last)",
      "Cell \u001b[1;32mIn[73], line 1\u001b[0m\n\u001b[1;32m----> 1\u001b[0m a[\u001b[38;5;241m1\u001b[39m,:]\n",
      "\u001b[1;31mIndexError\u001b[0m: too many indices for array: array is 1-dimensional, but 2 were indexed"
     ]
    }
   ],
   "source": [
    "a[1,:]"
   ]
  },
  {
   "cell_type": "code",
   "execution_count": null,
   "id": "fb28109e",
   "metadata": {},
   "outputs": [],
   "source": []
  },
  {
   "cell_type": "code",
   "execution_count": null,
   "id": "793553d5",
   "metadata": {},
   "outputs": [],
   "source": []
  },
  {
   "cell_type": "markdown",
   "id": "4a031caf",
   "metadata": {},
   "source": [
    "### Special arrays\n",
    "* useful for dimensioning an array before you aknow what values it will hold"
   ]
  },
  {
   "cell_type": "code",
   "execution_count": 75,
   "id": "65ad950d",
   "metadata": {},
   "outputs": [
    {
     "data": {
      "text/plain": [
       "array([1., 1., 1., 1., 1.])"
      ]
     },
     "execution_count": 75,
     "metadata": {},
     "output_type": "execute_result"
    }
   ],
   "source": [
    "np.ones(5)"
   ]
  },
  {
   "cell_type": "code",
   "execution_count": 79,
   "id": "5a461790",
   "metadata": {},
   "outputs": [
    {
     "data": {
      "text/plain": [
       "array([[1., 1., 1., 1., 1.],\n",
       "       [1., 1., 1., 1., 1.],\n",
       "       [1., 1., 1., 1., 1.],\n",
       "       [1., 1., 1., 1., 1.],\n",
       "       [1., 1., 1., 1., 1.]])"
      ]
     },
     "execution_count": 79,
     "metadata": {},
     "output_type": "execute_result"
    }
   ],
   "source": [
    "np.ones((5,5,))"
   ]
  },
  {
   "cell_type": "code",
   "execution_count": 81,
   "id": "b29ec0c4",
   "metadata": {},
   "outputs": [
    {
     "data": {
      "text/plain": [
       "array([0., 0., 0., 0., 0.])"
      ]
     },
     "execution_count": 81,
     "metadata": {},
     "output_type": "execute_result"
    }
   ],
   "source": [
    "np.zeros(5)"
   ]
  },
  {
   "cell_type": "code",
   "execution_count": 83,
   "id": "3e417d85",
   "metadata": {},
   "outputs": [
    {
     "data": {
      "text/plain": [
       "array([[1., 0., 0., 0., 0.],\n",
       "       [0., 1., 0., 0., 0.],\n",
       "       [0., 0., 1., 0., 0.],\n",
       "       [0., 0., 0., 1., 0.],\n",
       "       [0., 0., 0., 0., 1.]])"
      ]
     },
     "execution_count": 83,
     "metadata": {},
     "output_type": "execute_result"
    }
   ],
   "source": [
    "np.eye(5,5)"
   ]
  },
  {
   "cell_type": "code",
   "execution_count": 85,
   "id": "dc758b49-c6dd-4d9b-b859-44500d9d4cdb",
   "metadata": {},
   "outputs": [
    {
     "data": {
      "text/plain": [
       "array([1., 1., 1., 1., 1.])"
      ]
     },
     "execution_count": 85,
     "metadata": {},
     "output_type": "execute_result"
    }
   ],
   "source": [
    "np.empty(5)"
   ]
  },
  {
   "cell_type": "markdown",
   "id": "a449962f",
   "metadata": {},
   "source": [
    "### Working with random numbers\n",
    "* many different distribution options\n",
    "* normal and uniform most common\n",
    "* normal, standard_normal\n",
    "* randn, randint"
   ]
  },
  {
   "cell_type": "markdown",
   "id": "2e026a2e",
   "metadata": {},
   "source": [
    "### Standard normal\n",
    "* mean 0\n",
    "* std 1\n",
    "* takes a single optional argument --> n\n",
    "* `np.random.standard_normal([size])`"
   ]
  },
  {
   "cell_type": "code",
   "execution_count": 91,
   "id": "ab595ac3",
   "metadata": {},
   "outputs": [
    {
     "data": {
      "text/plain": [
       "array([ 1.06940094, -0.23477769,  0.05219795,  0.03723404, -0.09787212,\n",
       "        0.45729293, -0.29450153, -0.60759662, -0.09276266,  0.01699591])"
      ]
     },
     "execution_count": 91,
     "metadata": {},
     "output_type": "execute_result"
    }
   ],
   "source": [
    "np.random.standard_normal([10])"
   ]
  },
  {
   "cell_type": "code",
   "execution_count": 93,
   "id": "c50794d9",
   "metadata": {},
   "outputs": [
    {
     "data": {
      "text/plain": [
       "array([ 1.38177143,  0.8872191 ,  1.56436113,  0.76756208, -0.1665115 ,\n",
       "        0.69269947, -0.2219464 , -1.7127222 ,  1.60046447,  1.42020159])"
      ]
     },
     "execution_count": 93,
     "metadata": {},
     "output_type": "execute_result"
    }
   ],
   "source": [
    "npr.standard_normal(10)"
   ]
  },
  {
   "cell_type": "markdown",
   "id": "212e10f8",
   "metadata": {},
   "source": [
    "### Uniform Distributions\n",
    "* `np.random.randn(size=None)`\n",
    "* `np.random.randint(low, high=None, size=None, dtype=int)`\n",
    "    * excludes high --> called a half-open interval"
   ]
  },
  {
   "cell_type": "code",
   "execution_count": null,
   "id": "1692699f",
   "metadata": {},
   "outputs": [],
   "source": []
  },
  {
   "cell_type": "code",
   "execution_count": null,
   "id": "823394ab",
   "metadata": {},
   "outputs": [],
   "source": []
  },
  {
   "cell_type": "code",
   "execution_count": null,
   "id": "f8218c0a",
   "metadata": {},
   "outputs": [],
   "source": []
  },
  {
   "cell_type": "code",
   "execution_count": 97,
   "id": "69a93de0",
   "metadata": {},
   "outputs": [
    {
     "data": {
      "text/plain": [
       "5"
      ]
     },
     "execution_count": 97,
     "metadata": {},
     "output_type": "execute_result"
    }
   ],
   "source": [
    "# notice we never get to 6...\n",
    "npr.randint(1,6)\n"
   ]
  },
  {
   "cell_type": "code",
   "execution_count": null,
   "id": "09581032",
   "metadata": {},
   "outputs": [],
   "source": []
  },
  {
   "cell_type": "markdown",
   "id": "b834ed8a",
   "metadata": {},
   "source": [
    "### Normal\n",
    "* loc = mean\n",
    "* scale = std\n",
    "* if not specified mean = 0, std = 1"
   ]
  },
  {
   "cell_type": "code",
   "execution_count": 105,
   "id": "1a3010a8",
   "metadata": {},
   "outputs": [],
   "source": [
    "x = npr.normal(loc=100, scale=10, size=100)"
   ]
  },
  {
   "cell_type": "code",
   "execution_count": 107,
   "id": "6088426d",
   "metadata": {},
   "outputs": [
    {
     "name": "stdout",
     "output_type": "stream",
     "text": [
      "99.91909094038665\n",
      "8.183647124629996\n",
      "122.12023620989908\n",
      "82.64834686846864\n"
     ]
    }
   ],
   "source": [
    "print(x.mean())\n",
    "print(x.std())\n",
    "print(x.max())\n",
    "print(x.min())\n",
    "# there is no median method"
   ]
  },
  {
   "cell_type": "code",
   "execution_count": 111,
   "id": "1bb5ac5d",
   "metadata": {},
   "outputs": [
    {
     "data": {
      "text/plain": [
       "array([ 87.74030611,  90.04933547,  93.01541343, 100.16082524,\n",
       "       105.34646914, 110.14627741, 113.56985517])"
      ]
     },
     "execution_count": 111,
     "metadata": {},
     "output_type": "execute_result"
    }
   ],
   "source": [
    "percentiles = [5,10,25,50,75,90,95]\n",
    "np.percentile(x, percentiles)"
   ]
  },
  {
   "cell_type": "markdown",
   "id": "82aceac8",
   "metadata": {},
   "source": [
    "### Simple Linear Modeling"
   ]
  },
  {
   "cell_type": "code",
   "execution_count": 117,
   "id": "df625293",
   "metadata": {},
   "outputs": [],
   "source": [
    "x = npr.normal(size=50)\n",
    "y = x + npr.normal(loc=10, size=50)"
   ]
  },
  {
   "cell_type": "code",
   "execution_count": 119,
   "id": "abbdc52e",
   "metadata": {},
   "outputs": [
    {
     "data": {
      "text/plain": [
       "array([[1.        , 0.71109668],\n",
       "       [0.71109668, 1.        ]])"
      ]
     },
     "execution_count": 119,
     "metadata": {},
     "output_type": "execute_result"
    }
   ],
   "source": [
    "np.corrcoef(x,y)"
   ]
  },
  {
   "cell_type": "code",
   "execution_count": null,
   "id": "7a4964ea",
   "metadata": {},
   "outputs": [],
   "source": []
  },
  {
   "cell_type": "code",
   "execution_count": 59,
   "id": "833219ca",
   "metadata": {},
   "outputs": [
    {
     "data": {
      "text/plain": [
       "0.9617250638432819"
      ]
     },
     "execution_count": 59,
     "metadata": {},
     "output_type": "execute_result"
    }
   ],
   "source": [
    "slope, intercept = np.polyfit(x,y, deg=1)\n",
    "slope"
   ]
  },
  {
   "cell_type": "markdown",
   "id": "a5b13c1e",
   "metadata": {},
   "source": [
    "### More syntactically intense method to do the same thing\n",
    "* Requires a \"dummy\" variable next to actual x variable\n",
    "* The rcond allows for special handling of extremely small values "
   ]
  },
  {
   "cell_type": "code",
   "execution_count": null,
   "id": "254e2bba",
   "metadata": {},
   "outputs": [],
   "source": []
  },
  {
   "cell_type": "code",
   "execution_count": null,
   "id": "a6b2b57c",
   "metadata": {},
   "outputs": [],
   "source": []
  },
  {
   "cell_type": "code",
   "execution_count": null,
   "id": "3c438eda",
   "metadata": {},
   "outputs": [],
   "source": []
  },
  {
   "cell_type": "markdown",
   "id": "bc96861f",
   "metadata": {},
   "source": [
    "### Fill array with uniformly spaced data points between a minimum and maximum"
   ]
  },
  {
   "cell_type": "code",
   "execution_count": null,
   "id": "c0289a00",
   "metadata": {},
   "outputs": [],
   "source": []
  },
  {
   "cell_type": "code",
   "execution_count": null,
   "id": "03355598",
   "metadata": {},
   "outputs": [],
   "source": []
  }
 ],
 "metadata": {
  "kernelspec": {
   "display_name": "Python [conda env:base] *",
   "language": "python",
   "name": "conda-base-py"
  },
  "language_info": {
   "codemirror_mode": {
    "name": "ipython",
    "version": 3
   },
   "file_extension": ".py",
   "mimetype": "text/x-python",
   "name": "python",
   "nbconvert_exporter": "python",
   "pygments_lexer": "ipython3",
   "version": "3.12.7"
  }
 },
 "nbformat": 4,
 "nbformat_minor": 5
}
