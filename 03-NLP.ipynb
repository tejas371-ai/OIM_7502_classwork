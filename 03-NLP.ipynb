{
 "cells": [
  {
   "cell_type": "markdown",
   "id": "4a7f66be",
   "metadata": {},
   "source": [
    "# Natural Language Processing(NLP)\n",
    "* Broad topic that we can only touch on\n",
    "* Typically involves ingesting text for analysis or modeling\n",
    "* Commonly used NLP libraries\n",
    "    * [NLTK](https://www.nltk.org/) -- partially installed with Anaconda\n",
    "    * [Beautiful soup](https://www.crummy.com/software/BeautifulSoup/bs4/doc/) -- html parser\n",
    "    * [Wordcloud](https://pypi.org/project/wordcloud/)"
   ]
  },
  {
   "cell_type": "code",
   "execution_count": 18,
   "id": "6ba0bd16",
   "metadata": {},
   "outputs": [],
   "source": [
    "from bs4 import BeautifulSoup as bs # no, the pun is not lost \n",
    "import requests\n",
    "from wordcloud import WordCloud, STOPWORDS"
   ]
  },
  {
   "cell_type": "code",
   "execution_count": 19,
   "id": "36ae8a3f",
   "metadata": {},
   "outputs": [],
   "source": [
    "url =\"https://alphabench.com/data/python-loan-analysis.html\"\n"
   ]
  },
  {
   "cell_type": "code",
   "execution_count": null,
   "id": "1f5c892d",
   "metadata": {},
   "outputs": [],
   "source": [
    "# get raw html"
   ]
  },
  {
   "cell_type": "code",
   "execution_count": 81,
   "id": "13a1fb7e",
   "metadata": {},
   "outputs": [],
   "source": [
    "# get the first paragraph, with and without tag"
   ]
  },
  {
   "cell_type": "code",
   "execution_count": 82,
   "id": "b76692fa",
   "metadata": {},
   "outputs": [],
   "source": [
    "# get the text of all hyperlinks\n"
   ]
  },
  {
   "cell_type": "code",
   "execution_count": 83,
   "id": "f5961424",
   "metadata": {},
   "outputs": [],
   "source": [
    "# get the URLs for all hyperlinks\n"
   ]
  },
  {
   "cell_type": "code",
   "execution_count": 84,
   "id": "18f865ea",
   "metadata": {},
   "outputs": [],
   "source": [
    "# get text in paragraphs\n"
   ]
  },
  {
   "cell_type": "code",
   "execution_count": null,
   "id": "585fb35d",
   "metadata": {},
   "outputs": [],
   "source": []
  },
  {
   "cell_type": "code",
   "execution_count": null,
   "id": "1f00f8f2",
   "metadata": {},
   "outputs": [],
   "source": [
    "\n",
    "\n",
    "    "
   ]
  },
  {
   "cell_type": "code",
   "execution_count": null,
   "id": "4b98053a",
   "metadata": {},
   "outputs": [],
   "source": [
    "# tokenize text from webpage\n",
    "from nltk.tokenize import RegexpTokenizer\n"
   ]
  },
  {
   "cell_type": "code",
   "execution_count": 65,
   "id": "a6442053",
   "metadata": {},
   "outputs": [],
   "source": []
  },
  {
   "cell_type": "code",
   "execution_count": null,
   "id": "f4883e84",
   "metadata": {},
   "outputs": [],
   "source": []
  },
  {
   "cell_type": "code",
   "execution_count": null,
   "id": "0be837d9",
   "metadata": {},
   "outputs": [],
   "source": [
    "from nltk import ngrams, FreqDist\n"
   ]
  },
  {
   "cell_type": "markdown",
   "id": "892b72a7",
   "metadata": {},
   "source": [
    "### Word frequencies, bigrams, etc"
   ]
  },
  {
   "cell_type": "code",
   "execution_count": null,
   "id": "11938ca1",
   "metadata": {},
   "outputs": [],
   "source": []
  },
  {
   "cell_type": "markdown",
   "id": "c9b6bfe1",
   "metadata": {},
   "source": [
    "### Sentiment Analysis"
   ]
  },
  {
   "cell_type": "code",
   "execution_count": null,
   "id": "2170be32",
   "metadata": {},
   "outputs": [],
   "source": [
    "# sentiment analysis\n",
    "from nltk.sentiment.vader import SentimentIntensityAnalyzer\n"
   ]
  },
  {
   "cell_type": "markdown",
   "id": "c6d60b57",
   "metadata": {},
   "source": [
    "### Word Cloud"
   ]
  },
  {
   "cell_type": "code",
   "execution_count": 79,
   "id": "2eb05ad7",
   "metadata": {},
   "outputs": [],
   "source": [
    "import matplotlib.pyplot as plt\n",
    "from wordcloud import WordCloud, STOPWORDS "
   ]
  },
  {
   "cell_type": "code",
   "execution_count": null,
   "id": "c3be7f7d",
   "metadata": {},
   "outputs": [],
   "source": []
  },
  {
   "cell_type": "code",
   "execution_count": null,
   "id": "e07c1b80",
   "metadata": {},
   "outputs": [],
   "source": []
  },
  {
   "cell_type": "code",
   "execution_count": null,
   "id": "5d531091",
   "metadata": {},
   "outputs": [],
   "source": []
  },
  {
   "cell_type": "code",
   "execution_count": null,
   "id": "9ac94421",
   "metadata": {},
   "outputs": [],
   "source": []
  }
 ],
 "metadata": {
  "kernelspec": {
   "display_name": "Python 3 (ipykernel)",
   "language": "python",
   "name": "python3"
  },
  "language_info": {
   "codemirror_mode": {
    "name": "ipython",
    "version": 3
   },
   "file_extension": ".py",
   "mimetype": "text/x-python",
   "name": "python",
   "nbconvert_exporter": "python",
   "pygments_lexer": "ipython3",
   "version": "3.11.3"
  }
 },
 "nbformat": 4,
 "nbformat_minor": 5
}
