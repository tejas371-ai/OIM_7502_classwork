{
 "cells": [
  {
   "cell_type": "markdown",
   "id": "57179bb5",
   "metadata": {},
   "source": [
    "## Basic Graphing with matplotlib\n",
    "* Line graph\n",
    "* Histogram\n",
    "* Scatter plot"
   ]
  },
  {
   "cell_type": "markdown",
   "id": "40bbba2c",
   "metadata": {},
   "source": [
    "### Libraries we will be using \n",
    "* pep 8 (style guide for Python) suggests these should be in alphabetical order"
   ]
  },
  {
   "cell_type": "code",
   "execution_count": 10,
   "id": "35861876",
   "metadata": {},
   "outputs": [],
   "source": [
    "import matplotlib.pyplot as plt\n",
    "import numpy as np\n",
    "from numpy.random import normal\n",
    "from scipy.stats import norm"
   ]
  },
  {
   "cell_type": "markdown",
   "id": "3f448a9c",
   "metadata": {},
   "source": [
    "### Initialization of variable for simulating security price"
   ]
  },
  {
   "cell_type": "code",
   "execution_count": 44,
   "id": "a2f5386a",
   "metadata": {},
   "outputs": [],
   "source": [
    "r = .0525\n",
    "T = 1/252\n",
    "sigma = .30\n",
    "aapl = 189\n",
    "prices = list()"
   ]
  },
  {
   "cell_type": "markdown",
   "id": "fb88a352",
   "metadata": {},
   "source": [
    "### Simulation of one possible price path for an arbitrary quarter"
   ]
  },
  {
   "cell_type": "code",
   "execution_count": null,
   "id": "6e29ed11",
   "metadata": {},
   "outputs": [],
   "source": [
    "\n"
   ]
  },
  {
   "cell_type": "markdown",
   "id": "e6f4a52c",
   "metadata": {},
   "source": [
    "### The plot method takes one or two variables and generates a line plot\n",
    "* there are a long list of methods to augment and annotate your plots\n",
    "* The semicolon surpresses entraneous output in the notebook setting "
   ]
  },
  {
   "cell_type": "code",
   "execution_count": null,
   "id": "4d1a6ade",
   "metadata": {},
   "outputs": [],
   "source": []
  },
  {
   "cell_type": "markdown",
   "id": "e9312a56",
   "metadata": {},
   "source": [
    "### Simulation of 5000 possible paths\n",
    "* reset the price variable before running"
   ]
  },
  {
   "cell_type": "code",
   "execution_count": null,
   "id": "e69e4f4c",
   "metadata": {},
   "outputs": [],
   "source": []
  },
  {
   "cell_type": "markdown",
   "id": "2092c1de",
   "metadata": {},
   "source": [
    "### Plot the first 10 paths\n",
    "* as you can see it is easy to plot many lines on the same graph\n",
    "* everyt time you use `plt.` it effects the current plot"
   ]
  },
  {
   "cell_type": "code",
   "execution_count": null,
   "id": "6d062d18",
   "metadata": {},
   "outputs": [],
   "source": []
  },
  {
   "cell_type": "markdown",
   "id": "80f9650b",
   "metadata": {},
   "source": [
    "### Peel off the last value in each path and store in a new variable"
   ]
  },
  {
   "cell_type": "code",
   "execution_count": null,
   "id": "a28e47c9",
   "metadata": {},
   "outputs": [],
   "source": []
  },
  {
   "cell_type": "code",
   "execution_count": null,
   "id": "bbf18b49",
   "metadata": {},
   "outputs": [],
   "source": []
  },
  {
   "cell_type": "markdown",
   "id": "a23caeeb",
   "metadata": {},
   "source": [
    "### Let's make a histogram of each path's ending price!\n",
    "* plot data\n",
    "* overlay a theoretical normal curve based on scipy normal model to see how the data fits\n",
    "* Since a stocks price in the future generally reflects a lognormal ditribution, the overlay is more open-ended on the left"
   ]
  },
  {
   "cell_type": "code",
   "execution_count": null,
   "id": "aca4e4c4",
   "metadata": {},
   "outputs": [],
   "source": []
  },
  {
   "cell_type": "markdown",
   "id": "ba3c9b1c",
   "metadata": {},
   "source": [
    "### Using Seaborn to generate a simple histogram\n",
    "* the kde (kernel density estimate) is not quite the thing as the previous normal overlay"
   ]
  },
  {
   "cell_type": "code",
   "execution_count": null,
   "id": "4565d2e5",
   "metadata": {},
   "outputs": [],
   "source": []
  },
  {
   "cell_type": "markdown",
   "id": "63ebe8c9",
   "metadata": {},
   "source": [
    "### Scatter Plots"
   ]
  },
  {
   "cell_type": "code",
   "execution_count": null,
   "id": "8da87397",
   "metadata": {},
   "outputs": [],
   "source": []
  },
  {
   "cell_type": "markdown",
   "id": "189f4c49",
   "metadata": {},
   "source": [
    "### Using NumPy to fit a simple regression model "
   ]
  },
  {
   "cell_type": "code",
   "execution_count": null,
   "id": "c70bf304",
   "metadata": {},
   "outputs": [],
   "source": []
  },
  {
   "cell_type": "markdown",
   "id": "123e7488",
   "metadata": {},
   "source": [
    "### Assign the output of the model to appropriate variables"
   ]
  },
  {
   "cell_type": "code",
   "execution_count": null,
   "id": "465afdc5",
   "metadata": {},
   "outputs": [],
   "source": []
  },
  {
   "cell_type": "markdown",
   "id": "3ab7312a",
   "metadata": {},
   "source": [
    "### Plot the original data and least squares (regression) line "
   ]
  },
  {
   "cell_type": "code",
   "execution_count": null,
   "id": "913a4c5c",
   "metadata": {},
   "outputs": [],
   "source": []
  },
  {
   "cell_type": "markdown",
   "id": "3de1c9fa",
   "metadata": {},
   "source": [
    "### When generating random numbers it is sometime preferable to generate a constant stream\n",
    "* This can be done by creating a default generator \n",
    "* Often this is referred to as the random seed"
   ]
  },
  {
   "cell_type": "code",
   "execution_count": null,
   "id": "36d3af1f",
   "metadata": {},
   "outputs": [],
   "source": []
  },
  {
   "cell_type": "markdown",
   "id": "484bc199",
   "metadata": {},
   "source": [
    "### There is a so-called object-oriented method of using matplotlib\n",
    "* This involves assigning variables for two matplotlib objects\n",
    "* These variables are commonly called fig and ax or axes\n",
    "* This methodology may allow greater control over your output\n",
    "* There are syntactic differences when using this method"
   ]
  },
  {
   "cell_type": "code",
   "execution_count": null,
   "id": "e4282cec",
   "metadata": {},
   "outputs": [],
   "source": []
  },
  {
   "cell_type": "code",
   "execution_count": null,
   "id": "5a52bfd0",
   "metadata": {},
   "outputs": [],
   "source": []
  },
  {
   "cell_type": "markdown",
   "id": "953974b3",
   "metadata": {},
   "source": [
    "### Your work can be saved out to typical image formats (.png, .jpg)"
   ]
  },
  {
   "cell_type": "code",
   "execution_count": null,
   "id": "3659b771",
   "metadata": {},
   "outputs": [],
   "source": []
  },
  {
   "cell_type": "code",
   "execution_count": null,
   "id": "4b5f8d9c",
   "metadata": {},
   "outputs": [],
   "source": []
  }
 ],
 "metadata": {
  "kernelspec": {
   "display_name": "Python 3 (ipykernel)",
   "language": "python",
   "name": "python3"
  },
  "language_info": {
   "codemirror_mode": {
    "name": "ipython",
    "version": 3
   },
   "file_extension": ".py",
   "mimetype": "text/x-python",
   "name": "python",
   "nbconvert_exporter": "python",
   "pygments_lexer": "ipython3",
   "version": "3.11.3"
  }
 },
 "nbformat": 4,
 "nbformat_minor": 5
}
